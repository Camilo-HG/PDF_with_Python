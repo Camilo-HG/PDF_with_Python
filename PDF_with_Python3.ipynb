{
 "cells": [
  {
   "cell_type": "markdown",
   "metadata": {},
   "source": [
    "# PDFs with python 3\n",
    "\n",
    "This is a documentation about **how to extract information from PDFs using python 3**.\n",
    "\n",
    "Date: 13 Dec (2017)"
   ]
  },
  {
   "cell_type": "markdown",
   "metadata": {},
   "source": [
    "## PDF Samples\n",
    "\n",
    "In order to explore the tool's functionalities, I have downloaded three pdfs.  \n",
    "\n",
    "One of them named <font color=\"red\">sample.pdf</font> which was obtained from this tutorial: http://programacion.net/articulo/como_trabajar_con_documentos_pdf_utilizando_python_1398.  \n",
    "\n",
    "Other one named <font color=\"red\">pdf-sample.pdf</font> which was obtained from: http://unec.edu.az/application/uploads/2014/12/pdf-sample.pdf.  \n",
    "\n",
    "Last one is a paper.\n",
    "\n",
    "I have created one directory named **pdfs** to contain the documents. My work directory looks like:\n",
    "\n",
    "\n",
    "    PDF_with_Python/\n",
    "    ├── LICENSE\n",
    "    ├── pdfs\n",
    "    │   ├── paper.pdf\n",
    "    │   ├── pdf-sample.pdf\n",
    "    │   └── sample.pdf\n",
    "    ├── PDF_with_Python.ipynb\n",
    "    └── README.md"
   ]
  },
  {
   "cell_type": "markdown",
   "metadata": {},
   "source": [
    "## Tools information\n",
    "\n",
    "There exists different python tools for manipulating PDFs. Our interest in this notebook is to address this issue using **python 3**. Next tools are reported to work with python 3.\n",
    "\n",
    "### [PyPDF2](http://mstamy2.github.io/PyPDF2/ \"PyPDF2\")\n",
    "- Latest commit on 6 Aug (2017).  \n",
    "- Split, merge, crop, etc. of PDF files. Pure Python.  \n",
    "- Python 2 and **Python 3**.  \n",
    "- BSD License.  \n",
    "- Project's **GitHub**: https://github.com/mstamy2/PyPDF2  \n",
    "- **Documentation**: https://pythonhosted.org/PyPDF2/  \n",
    "- Includes sample code and **command line interface**.  \n",
    "- Current versión (up to date): **1.26.0**  \n",
    "- To install [this package](https://anaconda.org/conda-forge/pypdf2 \"PyPDF2 conda\") with [conda](https://anaconda.org/ \"anaconda cloud\") run one of the following:\n",
    "\n",
    "        conda install -c conda-forge pypdf2 \n",
    "        conda install -c conda-forge/label/broken pypdf2 \n",
    "\n",
    "You can find some examples for what it is used for (merge two pdf documents, delete pages, split pdf document into one-page documents, operate in pdf slices, set pdf metadata, etc), here: https://www.binpress.com/tutorial/manipulating-pdfs-with-python/167.\n",
    "\n",
    "### [PDFMiner3k](https://github.com/jaepil/pdfminer3k)\n",
    "- Latest commit on 5 Oct (2016).  \n",
    "- Requires **PDFMiner**. \n",
    "- **Python 3**.  \n",
    "- Unspecified License.          \n",
    "- Project's **GitHub**: https://github.com/jaepil/pdfminer3k  \n",
    "- **Documentation**: https://pypi.python.org/pypi/pdfminer3k/  \n",
    "- Current versión (up to date): **1.3.1** \n",
    "- To install [this package](https://anaconda.org/conda-forge/pdfminer3k \"PDFMiner3k conda\") with [conda](https://anaconda.org/ \"anaconda cloud\") run one of the following:\n",
    "\n",
    "        conda install -c conda-forge pdfminer3k\n",
    "        \n",
    "pdfminer3k is a Python 3 port of pdfminer. PDFMiner is a tool for extracting information from PDF documents. Unlike other PDF-related tools, it focuses entirely on getting and analyzing text data. PDFMiner allows to obtain the exact location of texts in a page, as well as other information such as fonts or lines. It includes a PDF converter that can transform PDF files into other text formats (such as HTML). It has an extensible PDF parser that can be used for other purposes instead of text analysis.   \n",
    "\n",
    "### [pdfrw](https://github.com/pmaupin/pdfrw)\n",
    "- Latest commit on 18 Sept (2017).  \n",
    "- **Python 3**.  \n",
    "- MIT License.         \n",
    "- Project's **GitHub**: https://github.com/pmaupin/pdfrw   \n",
    "- Current versión (up to date): **0.4**\n",
    "- To install [this package](https://anaconda.org/luceda/pdfrw \"pdfrw conda\") with [conda](https://anaconda.org/ \"anaconda cloud\") run one of the following:\n",
    "\n",
    "        conda install -c bjornfjohansson pdfrw\n",
    "        \n",
    "You can find a brief tutorial here: https://www.binpress.com/tutorial/manipulating-pdfs-with-python/171.\n",
    "\n",
    "### [pdftotext](https://github.com/jalan/pdftotext)\n",
    "- Latest commit on 12 Nov (2017).  \n",
    "- **Python 2** and **Python 3**.  \n",
    "- MIT License.         \n",
    "- Project's **GitHub**: https://github.com/jalan/pdftotext\n",
    "- PyPi: https://pypi.python.org/pypi/pdftotext/2.0.1\n",
    "- Current versión (up to date): **2.0.1**\n",
    "        \n",
    "Simple PDF text extraction. **No more info was found**.\n"
   ]
  },
  {
   "cell_type": "markdown",
   "metadata": {},
   "source": [
    "# PyPDF2\n",
    "\n",
    "First we have to import the module"
   ]
  },
  {
   "cell_type": "code",
   "execution_count": 1,
   "metadata": {
    "collapsed": true
   },
   "outputs": [],
   "source": [
    "import PyPDF2"
   ]
  },
  {
   "cell_type": "markdown",
   "metadata": {},
   "source": [
    "***\n",
    "Next, we need to open the PDF file, which is done with the built-in function [open()](https://docs.python.org/3/library/functions.html#open) as:\n",
    "\n",
    "    File = open(filename, mode)\n",
    "\n",
    "Where \"mode\" (which is optional) can be:\n",
    "\n",
    "- **'r'** : only read mode (this is the default mode)\n",
    "- **'w'** : only write mode\n",
    "- **'a'** : appending mode\n",
    "- **'r+'** : both read and write mode\n",
    "\n",
    "Files are opened in text mode, that means, you read and write strings from and to the file, which are encoded in a specific encoding. If encoding is not specified, the default is platform dependent, but if **'b'** is added to previous modes, then the file is opened in **binary mode**, hence **'rb'** opens file in **only read binary mode**. This mode should be used for all files that don’t contain text.  \n",
    "When you finish working with file, you must close the file object **File** using:\n",
    "\n",
    "    File.close()\n",
    "\n",
    "Now, reading a PDF file is not as simple as a text file, since PDFs are a proprietary format by Adobe that come with their own little quirks when it comes to automating the process of extracting information from each file. So, after open the file, we need to read the PDF format. For this purpose we must first initialize a **PdfFileReader object** with the class:\n",
    "\n",
    "- class [PyPDF2.PdfFileReader(File)](https://pythonhosted.org/PyPDF2/PdfFileReader.html): Initializes a PdfFileReader object. Obviously **File** is a file object.  \n",
    "\n",
    "\n",
    "***\n",
    "Let's try to read <font color=\"red\">sample.pdf</font>:"
   ]
  },
  {
   "cell_type": "code",
   "execution_count": 2,
   "metadata": {},
   "outputs": [
    {
     "name": "stderr",
     "output_type": "stream",
     "text": [
      "PdfReadWarning: PdfFileReader stream/file object is not in binary mode. It may not be read correctly. [pdf.py:1079]\n"
     ]
    },
    {
     "ename": "UnsupportedOperation",
     "evalue": "can't do nonzero end-relative seeks",
     "output_type": "error",
     "traceback": [
      "\u001b[0;31m---------------------------------------------------------------------------\u001b[0m",
      "\u001b[0;31mUnsupportedOperation\u001b[0m                      Traceback (most recent call last)",
      "\u001b[0;32m<ipython-input-2-1fe06a8af6a3>\u001b[0m in \u001b[0;36m<module>\u001b[0;34m()\u001b[0m\n\u001b[1;32m      1\u001b[0m \u001b[0mFile\u001b[0m \u001b[0;34m=\u001b[0m \u001b[0mopen\u001b[0m\u001b[0;34m(\u001b[0m\u001b[0;34m'./pdfs/sample.pdf'\u001b[0m\u001b[0;34m)\u001b[0m\u001b[0;34m\u001b[0m\u001b[0m\n\u001b[0;32m----> 2\u001b[0;31m \u001b[0mread_pdf\u001b[0m \u001b[0;34m=\u001b[0m \u001b[0mPyPDF2\u001b[0m\u001b[0;34m.\u001b[0m\u001b[0mPdfFileReader\u001b[0m\u001b[0;34m(\u001b[0m\u001b[0mFile\u001b[0m\u001b[0;34m)\u001b[0m\u001b[0;34m\u001b[0m\u001b[0m\n\u001b[0m",
      "\u001b[0;32m~/anaconda3/lib/python3.6/site-packages/PyPDF2/pdf.py\u001b[0m in \u001b[0;36m__init__\u001b[0;34m(self, stream, strict, warndest, overwriteWarnings)\u001b[0m\n\u001b[1;32m   1082\u001b[0m             \u001b[0mstream\u001b[0m \u001b[0;34m=\u001b[0m \u001b[0mBytesIO\u001b[0m\u001b[0;34m(\u001b[0m\u001b[0mb_\u001b[0m\u001b[0;34m(\u001b[0m\u001b[0mfileobj\u001b[0m\u001b[0;34m.\u001b[0m\u001b[0mread\u001b[0m\u001b[0;34m(\u001b[0m\u001b[0;34m)\u001b[0m\u001b[0;34m)\u001b[0m\u001b[0;34m)\u001b[0m\u001b[0;34m\u001b[0m\u001b[0m\n\u001b[1;32m   1083\u001b[0m             \u001b[0mfileobj\u001b[0m\u001b[0;34m.\u001b[0m\u001b[0mclose\u001b[0m\u001b[0;34m(\u001b[0m\u001b[0;34m)\u001b[0m\u001b[0;34m\u001b[0m\u001b[0m\n\u001b[0;32m-> 1084\u001b[0;31m         \u001b[0mself\u001b[0m\u001b[0;34m.\u001b[0m\u001b[0mread\u001b[0m\u001b[0;34m(\u001b[0m\u001b[0mstream\u001b[0m\u001b[0;34m)\u001b[0m\u001b[0;34m\u001b[0m\u001b[0m\n\u001b[0m\u001b[1;32m   1085\u001b[0m         \u001b[0mself\u001b[0m\u001b[0;34m.\u001b[0m\u001b[0mstream\u001b[0m \u001b[0;34m=\u001b[0m \u001b[0mstream\u001b[0m\u001b[0;34m\u001b[0m\u001b[0m\n\u001b[1;32m   1086\u001b[0m \u001b[0;34m\u001b[0m\u001b[0m\n",
      "\u001b[0;32m~/anaconda3/lib/python3.6/site-packages/PyPDF2/pdf.py\u001b[0m in \u001b[0;36mread\u001b[0;34m(self, stream)\u001b[0m\n\u001b[1;32m   1687\u001b[0m         \u001b[0;32mif\u001b[0m \u001b[0mdebug\u001b[0m\u001b[0;34m:\u001b[0m \u001b[0mprint\u001b[0m\u001b[0;34m(\u001b[0m\u001b[0;34m\">>read\"\u001b[0m\u001b[0;34m,\u001b[0m \u001b[0mstream\u001b[0m\u001b[0;34m)\u001b[0m\u001b[0;34m\u001b[0m\u001b[0m\n\u001b[1;32m   1688\u001b[0m         \u001b[0;31m# start at the end:\u001b[0m\u001b[0;34m\u001b[0m\u001b[0;34m\u001b[0m\u001b[0m\n\u001b[0;32m-> 1689\u001b[0;31m         \u001b[0mstream\u001b[0m\u001b[0;34m.\u001b[0m\u001b[0mseek\u001b[0m\u001b[0;34m(\u001b[0m\u001b[0;34m-\u001b[0m\u001b[0;36m1\u001b[0m\u001b[0;34m,\u001b[0m \u001b[0;36m2\u001b[0m\u001b[0;34m)\u001b[0m\u001b[0;34m\u001b[0m\u001b[0m\n\u001b[0m\u001b[1;32m   1690\u001b[0m         \u001b[0;32mif\u001b[0m \u001b[0;32mnot\u001b[0m \u001b[0mstream\u001b[0m\u001b[0;34m.\u001b[0m\u001b[0mtell\u001b[0m\u001b[0;34m(\u001b[0m\u001b[0;34m)\u001b[0m\u001b[0;34m:\u001b[0m\u001b[0;34m\u001b[0m\u001b[0m\n\u001b[1;32m   1691\u001b[0m             \u001b[0;32mraise\u001b[0m \u001b[0mutils\u001b[0m\u001b[0;34m.\u001b[0m\u001b[0mPdfReadError\u001b[0m\u001b[0;34m(\u001b[0m\u001b[0;34m'Cannot read an empty file'\u001b[0m\u001b[0;34m)\u001b[0m\u001b[0;34m\u001b[0m\u001b[0m\n",
      "\u001b[0;31mUnsupportedOperation\u001b[0m: can't do nonzero end-relative seeks"
     ]
    }
   ],
   "source": [
    "File = open('./pdfs/sample.pdf')\n",
    "read_pdf = PyPDF2.PdfFileReader(File)"
   ]
  },
  {
   "cell_type": "markdown",
   "metadata": {},
   "source": [
    "***\n",
    "According to this error, it seems that <font color=\"red\">sample.pdf</font> is in binary mode. So we need \"to close File\" and re-open it in binary mode:"
   ]
  },
  {
   "cell_type": "code",
   "execution_count": 3,
   "metadata": {
    "collapsed": true
   },
   "outputs": [],
   "source": [
    "File.close()\n",
    "\n",
    "File = open('./pdfs/sample.pdf', 'rb')\n",
    "read_pdf = PyPDF2.PdfFileReader(File)"
   ]
  },
  {
   "cell_type": "markdown",
   "metadata": {
    "collapsed": true
   },
   "source": [
    "***\n",
    "Afterwards we can work inside the document.\n",
    "\n",
    "First let's check some of the things can be done.\n",
    "\n",
    "***\n",
    "### 1. Number of pages\n",
    "\n",
    "    getNumPages(): Calculates the number of pages in this PDF file."
   ]
  },
  {
   "cell_type": "code",
   "execution_count": 4,
   "metadata": {},
   "outputs": [
    {
     "name": "stdout",
     "output_type": "stream",
     "text": [
      "\n",
      " Number of pages =  1\n"
     ]
    }
   ],
   "source": [
    "number_of_pages = read_pdf.getNumPages()\n",
    "print('\\n', 'Number of pages = ', number_of_pages)"
   ]
  },
  {
   "cell_type": "markdown",
   "metadata": {},
   "source": [
    "***\n",
    "### 2. Get a specific page\n",
    "\n",
    "Now, since we yet know the number of pages of our document, we can go to any page and create a **page object** using:\n",
    "\n",
    "    getPage(pageNumber): Retrieves a page object by number from this PDF file.    "
   ]
  },
  {
   "cell_type": "code",
   "execution_count": 5,
   "metadata": {},
   "outputs": [
    {
     "name": "stdout",
     "output_type": "stream",
     "text": [
      "\n",
      " {'/Type': '/Page', '/Parent': IndirectObject(3, 0), '/Resources': IndirectObject(6, 0), '/Contents': IndirectObject(4, 0), '/MediaBox': [0, 0, 612, 792]}\n"
     ]
    }
   ],
   "source": [
    "page = read_pdf.getPage(0)\n",
    "print('\\n', page)"
   ]
  },
  {
   "cell_type": "markdown",
   "metadata": {},
   "source": [
    "We know that <font color=\"red\">sample.pdf</font> has only 1 page. What if we try to get a page whose number is equal or more than the PDF's number of pages?\n",
    "\n",
    "Let's see:"
   ]
  },
  {
   "cell_type": "code",
   "execution_count": 6,
   "metadata": {},
   "outputs": [
    {
     "ename": "IndexError",
     "evalue": "list index out of range",
     "output_type": "error",
     "traceback": [
      "\u001b[0;31m---------------------------------------------------------------------------\u001b[0m",
      "\u001b[0;31mIndexError\u001b[0m                                Traceback (most recent call last)",
      "\u001b[0;32m<ipython-input-6-9551fe4cc14f>\u001b[0m in \u001b[0;36m<module>\u001b[0;34m()\u001b[0m\n\u001b[0;32m----> 1\u001b[0;31m \u001b[0mpage\u001b[0m \u001b[0;34m=\u001b[0m \u001b[0mread_pdf\u001b[0m\u001b[0;34m.\u001b[0m\u001b[0mgetPage\u001b[0m\u001b[0;34m(\u001b[0m\u001b[0;36m1\u001b[0m\u001b[0;34m)\u001b[0m\u001b[0;34m\u001b[0m\u001b[0m\n\u001b[0m\u001b[1;32m      2\u001b[0m \u001b[0mprint\u001b[0m\u001b[0;34m(\u001b[0m\u001b[0;34m'\\n'\u001b[0m\u001b[0;34m,\u001b[0m \u001b[0mpage\u001b[0m\u001b[0;34m)\u001b[0m\u001b[0;34m\u001b[0m\u001b[0m\n",
      "\u001b[0;32m~/anaconda3/lib/python3.6/site-packages/PyPDF2/pdf.py\u001b[0m in \u001b[0;36mgetPage\u001b[0;34m(self, pageNumber)\u001b[0m\n\u001b[1;32m   1175\u001b[0m         \u001b[0;32mif\u001b[0m \u001b[0mself\u001b[0m\u001b[0;34m.\u001b[0m\u001b[0mflattenedPages\u001b[0m \u001b[0;34m==\u001b[0m \u001b[0;32mNone\u001b[0m\u001b[0;34m:\u001b[0m\u001b[0;34m\u001b[0m\u001b[0m\n\u001b[1;32m   1176\u001b[0m             \u001b[0mself\u001b[0m\u001b[0;34m.\u001b[0m\u001b[0m_flatten\u001b[0m\u001b[0;34m(\u001b[0m\u001b[0;34m)\u001b[0m\u001b[0;34m\u001b[0m\u001b[0m\n\u001b[0;32m-> 1177\u001b[0;31m         \u001b[0;32mreturn\u001b[0m \u001b[0mself\u001b[0m\u001b[0;34m.\u001b[0m\u001b[0mflattenedPages\u001b[0m\u001b[0;34m[\u001b[0m\u001b[0mpageNumber\u001b[0m\u001b[0;34m]\u001b[0m\u001b[0;34m\u001b[0m\u001b[0m\n\u001b[0m\u001b[1;32m   1178\u001b[0m \u001b[0;34m\u001b[0m\u001b[0m\n\u001b[1;32m   1179\u001b[0m     namedDestinations = property(lambda self:\n",
      "\u001b[0;31mIndexError\u001b[0m: list index out of range"
     ]
    }
   ],
   "source": [
    "page = read_pdf.getPage(1)\n",
    "print('\\n', page)"
   ]
  },
  {
   "cell_type": "markdown",
   "metadata": {},
   "source": [
    "***\n",
    "### 3. Get the page content\n",
    "\n",
    "What about getting the page content? The **page object** has a method which returns it:\n",
    "\n",
    "    extractText(): Locate all text drawing commands, in the order they are provided in the content stream, and extract the text. This works well for some PDF files, but poorly for others, depending on the generator used. This will be refined in the future.\n",
    "\n",
    "Let's see:"
   ]
  },
  {
   "cell_type": "code",
   "execution_count": 7,
   "metadata": {},
   "outputs": [
    {
     "name": "stdout",
     "output_type": "stream",
     "text": [
      "\n",
      " !\"#$%#$%&%$&'()*%+,-%./01'*23%4\n",
      "5'%1$#26%3/%7/))/8%&)/26%8#3\"%3\"*%313/9#&)\n",
      "%\n"
     ]
    }
   ],
   "source": [
    "page_content = page.extractText()\n",
    "print('\\n', page_content)\n",
    "\n",
    "File.close()"
   ]
  },
  {
   "cell_type": "markdown",
   "metadata": {},
   "source": [
    "So, as documentation said: **_This works well for some PDF files, but poorly for others, depending on the generator used_**.\n",
    "\n",
    "***\n",
    "Let's try with the file <font color=\"red\">pdf-sample.pdf</font>:"
   ]
  },
  {
   "cell_type": "code",
   "execution_count": 8,
   "metadata": {},
   "outputs": [
    {
     "name": "stdout",
     "output_type": "stream",
     "text": [
      "\n",
      " {'/Contents': IndirectObject(11, 0), '/CropBox': [0, 0, 595, 842], '/MediaBox': [0, 0, 595, 842], '/Parent': IndirectObject(5, 0), '/Resources': IndirectObject(14, 0), '/Rotate': 0, '/Type': '/Page'}\n",
      "\n",
      " Number of pages =  1\n",
      "\n",
      " Adobe Acrobat PDF Files\n",
      "Adobe® Portable Document Format (PDF) is a universal file format that preserves all\n",
      "of the fonts, formatting, colours and graphics of any source document, regardless of\n",
      "\n",
      "the application and platform used to create it.\n",
      "Adobe PDF is an ideal format for electronic document distribution as it overcomes the\n",
      "problems commonly encountered with electronic file sharing.\n",
      " Anyone, anywhere can open a PDF file. All you need is the free Adobe Acrobat\n",
      "Reader. Recipients of other file formats sometimes can't open files because they\n",
      "don't have the applications used to create the documents.\n",
      " PDF files \n",
      "always print correctly\n",
      " on any printing device.\n",
      " PDF files always display \n",
      "exactly\n",
      " as created, regardless of fonts, software, and\n",
      "operating systems. Fonts, and graphics are not lost due to platform, software, and\n",
      "version incompatibilities.\n",
      " The free Acrobat Reader is easy to download and can be freely distributed by\n",
      "anyone.\n",
      " Compact PDF files are smaller than their source files and download a\n",
      "page at a time for fast display on the Web.\n",
      "\n"
     ]
    }
   ],
   "source": [
    "File = open('./pdfs/pdf-sample.pdf', 'rb')\n",
    "\n",
    "read_pdf = PyPDF2.PdfFileReader(File)\n",
    "\n",
    "page = read_pdf.getPage(0)\n",
    "print('\\n', page)\n",
    "\n",
    "number_of_pages = read_pdf.getNumPages()\n",
    "print('\\n', 'Number of pages = ', number_of_pages)\n",
    "\n",
    "page_content = page.extractText()\n",
    "print('\\n', page_content)\n",
    "\n",
    "File.close()"
   ]
  },
  {
   "cell_type": "markdown",
   "metadata": {},
   "source": [
    "Last result was so good although it seems disordered. \n",
    "\n",
    "***\n",
    "What happen when we try to read more complex PDFs like the **paper** we have downloaded?\n",
    "\n",
    "Let's try with the file <font color=\"red\">paper.pdf</font>:"
   ]
  },
  {
   "cell_type": "code",
   "execution_count": 9,
   "metadata": {},
   "outputs": [
    {
     "name": "stderr",
     "output_type": "stream",
     "text": [
      "PdfReadWarning: Xref table not zero-indexed. ID numbers for objects will be corrected. [pdf.py:1736]\n"
     ]
    },
    {
     "name": "stdout",
     "output_type": "stream",
     "text": [
      "\n",
      " {'/CropBox': [41.89999, 46.5, 637.2, 840.2], '/Annots': [IndirectObject(116, 0), IndirectObject(117, 0), IndirectObject(118, 0), IndirectObject(119, 0), IndirectObject(120, 0), IndirectObject(121, 0), IndirectObject(122, 0), IndirectObject(123, 0), IndirectObject(124, 0), IndirectObject(125, 0), IndirectObject(126, 0), IndirectObject(127, 0), IndirectObject(128, 0), IndirectObject(129, 0), IndirectObject(130, 0), IndirectObject(131, 0), IndirectObject(132, 0), IndirectObject(133, 0), IndirectObject(134, 0), IndirectObject(135, 0)], '/Parent': IndirectObject(98, 0), '/B': [IndirectObject(136, 0), IndirectObject(137, 0), IndirectObject(144, 0)], '/Contents': [IndirectObject(182, 0), IndirectObject(184, 0), IndirectObject(186, 0), IndirectObject(188, 0), IndirectObject(195, 0), IndirectObject(197, 0), IndirectObject(199, 0), IndirectObject(202, 0)], '/Rotate': 0, '/MediaBox': [41.89999, 46.5, 637.2, 840.2], '/Thumb': IndirectObject(46, 0), '/TrimBox': [41.89999, 46.5, 637.2, 840.2], '/Resources': IndirectObject(145, 0), '/Type': '/Page'}\n",
      "\n",
      " Number of pages =  5\n",
      "\n",
      " LeukemiaResearch\n",
      "34 (2010) 677–681Contentslistsavailableat\n",
      "ScienceDirect\n",
      "LeukemiaResearch\n",
      "journalhomepage:\n",
      "www.elsevier.com/locate/leukresBriefcommunication\n",
      "Micro-RNA-15aandmicro-RNA-16expressionandchromosome13deletionsin\n",
      "multiplemyeloma\n",
      "SophieL.Corthals\n",
      "a,MojcaJongen-Lavrencic\n",
      "a,YvonnedeKnegt\n",
      "a,JustineK.Peeters\n",
      "a,H.BernaBeverloo\n",
      "b,HenkM.Lokhorst\n",
      "c,PieterSonneveld\n",
      "a,aDepartmentofHematology,ErasmusMedicalCentreRotterdam,Rotterdam,TheNetherlands\n",
      "bDepartmentofClinicalGenetics,ErasmusMedicalCentreRotterdam,Rotterdam,TheNetherlands\n",
      "cDepartmentofHematology,UniversityMedicalCenterUtrecht,Utrecht,TheNetherlands\n",
      "articleinfo\n",
      "Articlehistory:\n",
      "Received15October2009\n",
      "\n",
      "Receivedinrevisedform28October2009\n",
      "\n",
      "Accepted28October2009\n",
      "\n",
      "Available online 23 December 2009Keywords:\n",
      "Multiplemyeloma\n",
      "\n",
      "Micro-RNA\n",
      "Chromosome13deletion\n",
      "abstractWehaveusedcopynumbervariation(CNV)analysiswithSNPmappingarraysfor\n",
      "miRNA-15aandmiRNA-16-1expressionanalysisinpatientswithmultiplemyeloma(MM)withorwithoutdeletionof\n",
      "chromosome13q14.\n",
      "MiRNA-15aandmiRNA-16displayarangeofexpressionpatternsinMMpatients,\n",
      "independentofthechromosome13status.Theseﬁndingssuggestthatgenesotherthan\n",
      "miR-15aandmiR-16mayexplaintheprognosticsigniﬁcanceof13q14deletions.\n",
      "© 2009 Elsevier Ltd. All rights reserved.1.Introduction\n",
      "Multiplemyeloma(MM)isadismaldiseasewithamediansur-\n",
      "vivalof3–5years\n",
      "[1].MMischaracterizedbygeneticinstabilityandchromosomal\n",
      "translocationsearlyindiseaseprogressionplayanimportantrole\n",
      "\n",
      "inthepathogenesisofMM.Chromosome13aberrationsoccurin\n",
      "\n",
      "50%andthemostcommonlydeletedmarkerinthe13q14regionis\n",
      "\n",
      "D13S319,locateddistaltotheretinoblastoma-1(\n",
      "RB1)gene\n",
      "[2,3].It\n",
      "isnowcommonpracticetodeterminethepresenceofchromosome\n",
      "\n",
      "13deletionsbyﬂuorescenceinsituhybridization(FISH)\n",
      "[4–10].Theadverseprognosticroleofthesedeletionshasbeenattributed\n",
      "\n",
      "tothepresenceofMMtumorsuppressorgene(s)onchromosome\n",
      "\n",
      "13qwhichasyethavenotbeenidentiﬁed.\n",
      "Micro-RNAs(miRs)areaclassofsmallnon-codingsingle\n",
      "strandedRNAsofapproximately22nucleotidesinlength\n",
      "[11].MiRs\n",
      "negativelyregulategeneexpressionbybindingtopartiallycom-\n",
      "\n",
      "plementarysitesinmessengerRNAs(mRNAs)\n",
      "[12].miRsmayplay\n",
      "aroleinthepathogenesisofMM\n",
      "[13,14].Inchroniclymphocytic\n",
      "leukemia(CLL),\n",
      "miR-15aandmiR-16-1arefrequentlydownregu-\n",
      "Correspondingauthorat:DepartmentofHematology,ErasmusMedicalCentre\n",
      "Rotterdam,RoomNo.L439,POBox2040,3000CARotterdam,TheNetherlands.\n",
      "\n",
      "Tel.:+31107033123;fax:+31107035814.\n",
      "E-mailaddress:\n",
      "p.sonneveld@erasmusmc.nl(P.Sonneveld).\n",
      "lated[15].Weevaluatedtheexpressionof\n",
      "miR-15aandmiR-16-1inMM.\n",
      "2.Materialsandmethods\n",
      "WeobtainedbonemarrowsamplesfromnewlydiagnosedpatientswithMM.\n",
      "Myelomaplasmacellswerepuriﬁed>80%usingCD138magneticmicrobeads\n",
      "\n",
      "(MACSsystem,MiltenyiBiotec,BergischGladbach,Germany).SmallRNAtran-\n",
      "\n",
      "scriptslessthan200nucleotidesinlengthincludingmiRs,wereisolatedfrom\n",
      "\n",
      "CD138magneticcellselected(MACS)MMplasmacellsusingmiRVana\n",
      "TMmiRNAIsolationKit(Ambion,Austin,TX).RNAlevelsandqualitywereassessedusing\n",
      "\n",
      "theAgilent2100Bioanalyzer(AgilentTechnologies).Mature\n",
      "miR-15aandmiR-16expressionlevelsinMMplasmacellsweredeterminedbyreal-timePCR\n",
      "usingTaqManmiRassay(AppliedBiosystems,P/N:4373123and4373121)\n",
      "\n",
      "[16].AllexperimentswereperformedinduplicateandmiRswereconsidered\n",
      "aspresentwhen\n",
      "CT-valueswerelowerthan35.GenomicDNAwasisolated\n",
      "fromperipheralbloodbysaltingoutprecipitation.TumorDNAwasextracted\n",
      "\n",
      "fromCD138MACSMMplasmacellsusingQiagenRNAeasykit(Qiagen,Valen-\n",
      "\n",
      "cia,CA).Genome-wideSNPgenotypingwasperformedusingtheIllumina\n",
      "\n",
      "InﬁniumHumanHap550GenotypingBeadChip,containingover550,000unique\n",
      "\n",
      "tagSNPmarkers,accordingtomanufacturer’sinstructions(Illumina,SanDiego,\n",
      "\n",
      "CA).GenotypesforallarrayswerecalculatedusingBeadStudio’sgenotypingmod-\n",
      "ule(v2.0,Illumina).DatawasimportedintoPartekGenomicsSuite6.4software\n",
      "\n",
      "(PartekInc.,StLouis,MO)forfurtheranalysis;alleleintensitieswerecalculated\n",
      "\n",
      "for25genomicDNAMMsamplesand26tumorDNAMMsamples,ofwhich20\n",
      "\n",
      "hadpairednormalsamples.Forthese20samples,pairedanalysiswasperformed.\n",
      "\n",
      "Allelespeciﬁccopynumbervariation(AsCN)wascalculatedbyestimatingthenum-\n",
      "\n",
      "berofcopiesforeachallele,ratherthantotalcopiesofeachchromosome.Lossof\n",
      "\n",
      "heterozygosity(LOH)wasestimatedfromtheimportedsamplegenotypesbyaHid-\n",
      "\n",
      "denMarkovModel,usingthesamebaselineasinthesegmentationalgorithm(25\n",
      "0145-2126/$–seefrontmatter\n",
      "© 2009 Elsevier Ltd. All rights reserved.doi:10.1016/j.leukres.2009.10.026\n"
     ]
    }
   ],
   "source": [
    "File = open('./pdfs/paper.pdf', 'rb')\n",
    "\n",
    "read_pdf = PyPDF2.PdfFileReader(File)\n",
    "\n",
    "page = read_pdf.getPage(0)\n",
    "print('\\n', page)\n",
    "\n",
    "number_of_pages = read_pdf.getNumPages()\n",
    "print('\\n', 'Number of pages = ', number_of_pages)\n",
    "\n",
    "page_content = page.extractText()\n",
    "print('\\n', page_content)\n",
    "\n",
    "File.close()"
   ]
  },
  {
   "cell_type": "markdown",
   "metadata": {
    "collapsed": true
   },
   "source": [
    "If you see carefully, **this is wrong**.\n",
    "\n",
    "We expected the full text of page number 0, but in counterpart we have obtained an **incomplete part of the text**.\n",
    "\n",
    "This leads us to think that PyPDF2 requires more development time. \n",
    "\n",
    "## Conclusion\n",
    "\n",
    "Although PyPDF2 has an **extractText()** function is very easy to use, s other people have noted, it is harder than it seems to get to text out of a PDF and extractText() function **is known not to work on every PDF**, especially if it is formatted in a _complicated way (for example pictures with captions, columns)_."
   ]
  },
  {
   "cell_type": "code",
   "execution_count": null,
   "metadata": {
    "collapsed": true
   },
   "outputs": [],
   "source": []
  }
 ],
 "metadata": {
  "kernelspec": {
   "display_name": "Python 3",
   "language": "python",
   "name": "python3"
  },
  "language_info": {
   "codemirror_mode": {
    "name": "ipython",
    "version": 3
   },
   "file_extension": ".py",
   "mimetype": "text/x-python",
   "name": "python",
   "nbconvert_exporter": "python",
   "pygments_lexer": "ipython3",
   "version": "3.6.2"
  }
 },
 "nbformat": 4,
 "nbformat_minor": 2
}
